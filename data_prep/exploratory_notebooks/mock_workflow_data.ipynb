{
 "cells": [
  {
   "cell_type": "code",
   "execution_count": 71,
   "id": "602af95b",
   "metadata": {},
   "outputs": [],
   "source": [
    "import pandas as pd\n",
    "import datetime, pytz\n",
    "import random"
   ]
  },
  {
   "cell_type": "markdown",
   "id": "b8bf2be1",
   "metadata": {},
   "source": [
    "### Read users"
   ]
  },
  {
   "cell_type": "code",
   "execution_count": 72,
   "id": "b10b5c93",
   "metadata": {},
   "outputs": [],
   "source": [
    "users = pd.read_excel(\"../../data/users_processed.xlsx\")"
   ]
  },
  {
   "cell_type": "code",
   "execution_count": 73,
   "id": "728c2402",
   "metadata": {
    "pycharm": {
     "name": "#%%\n"
    }
   },
   "outputs": [
    {
     "data": {
      "text/plain": "        id             city                   tz  utc_offset             team  \\\n0        1      Kilinochchi         Asia/Colombo         530       AccountRep   \n1        2       San Isidro          Asia/Manila         800               QA   \n2        3         Liaoyang          Asia/Harbin         800  CustomerSuccess   \n3        4     Novaya Mayna     Europe/Volgograd         300               QA   \n4        5         Blimbing         Asia/Jakarta         700               QA   \n...    ...              ...                  ...         ...              ...   \n1621  1996  Primero de Mayo  America/Mexico_City        -500               QA   \n1622  1997           Yuncao        Asia/Shanghai         800       AccountRep   \n1623  1998          Jiuzhai          Asia/Harbin         800  CustomerSuccess   \n1624  1999         Sulangan          Asia/Manila         800            Sales   \n1625  2000        Hupalivka    Europe/Zaporozhye         300            Sales   \n\n      performance                name  \n0            0.65       Tybie Lampart  \n1            0.89    Gertrud Wasselin  \n2            1.09  Candide MacKissack  \n3            1.10    Alexis Sherrocks  \n4            1.09        Jorrie Crady  \n...           ...                 ...  \n1621         0.92       Sylvan Wotton  \n1622         1.06  Jerrome Pedlingham  \n1623         1.09   Cleavland Leneham  \n1624         0.70       Drusi Duignan  \n1625         0.80        Torre Perree  \n\n[1626 rows x 7 columns]",
      "text/html": "<div>\n<style scoped>\n    .dataframe tbody tr th:only-of-type {\n        vertical-align: middle;\n    }\n\n    .dataframe tbody tr th {\n        vertical-align: top;\n    }\n\n    .dataframe thead th {\n        text-align: right;\n    }\n</style>\n<table border=\"1\" class=\"dataframe\">\n  <thead>\n    <tr style=\"text-align: right;\">\n      <th></th>\n      <th>id</th>\n      <th>city</th>\n      <th>tz</th>\n      <th>utc_offset</th>\n      <th>team</th>\n      <th>performance</th>\n      <th>name</th>\n    </tr>\n  </thead>\n  <tbody>\n    <tr>\n      <th>0</th>\n      <td>1</td>\n      <td>Kilinochchi</td>\n      <td>Asia/Colombo</td>\n      <td>530</td>\n      <td>AccountRep</td>\n      <td>0.65</td>\n      <td>Tybie Lampart</td>\n    </tr>\n    <tr>\n      <th>1</th>\n      <td>2</td>\n      <td>San Isidro</td>\n      <td>Asia/Manila</td>\n      <td>800</td>\n      <td>QA</td>\n      <td>0.89</td>\n      <td>Gertrud Wasselin</td>\n    </tr>\n    <tr>\n      <th>2</th>\n      <td>3</td>\n      <td>Liaoyang</td>\n      <td>Asia/Harbin</td>\n      <td>800</td>\n      <td>CustomerSuccess</td>\n      <td>1.09</td>\n      <td>Candide MacKissack</td>\n    </tr>\n    <tr>\n      <th>3</th>\n      <td>4</td>\n      <td>Novaya Mayna</td>\n      <td>Europe/Volgograd</td>\n      <td>300</td>\n      <td>QA</td>\n      <td>1.10</td>\n      <td>Alexis Sherrocks</td>\n    </tr>\n    <tr>\n      <th>4</th>\n      <td>5</td>\n      <td>Blimbing</td>\n      <td>Asia/Jakarta</td>\n      <td>700</td>\n      <td>QA</td>\n      <td>1.09</td>\n      <td>Jorrie Crady</td>\n    </tr>\n    <tr>\n      <th>...</th>\n      <td>...</td>\n      <td>...</td>\n      <td>...</td>\n      <td>...</td>\n      <td>...</td>\n      <td>...</td>\n      <td>...</td>\n    </tr>\n    <tr>\n      <th>1621</th>\n      <td>1996</td>\n      <td>Primero de Mayo</td>\n      <td>America/Mexico_City</td>\n      <td>-500</td>\n      <td>QA</td>\n      <td>0.92</td>\n      <td>Sylvan Wotton</td>\n    </tr>\n    <tr>\n      <th>1622</th>\n      <td>1997</td>\n      <td>Yuncao</td>\n      <td>Asia/Shanghai</td>\n      <td>800</td>\n      <td>AccountRep</td>\n      <td>1.06</td>\n      <td>Jerrome Pedlingham</td>\n    </tr>\n    <tr>\n      <th>1623</th>\n      <td>1998</td>\n      <td>Jiuzhai</td>\n      <td>Asia/Harbin</td>\n      <td>800</td>\n      <td>CustomerSuccess</td>\n      <td>1.09</td>\n      <td>Cleavland Leneham</td>\n    </tr>\n    <tr>\n      <th>1624</th>\n      <td>1999</td>\n      <td>Sulangan</td>\n      <td>Asia/Manila</td>\n      <td>800</td>\n      <td>Sales</td>\n      <td>0.70</td>\n      <td>Drusi Duignan</td>\n    </tr>\n    <tr>\n      <th>1625</th>\n      <td>2000</td>\n      <td>Hupalivka</td>\n      <td>Europe/Zaporozhye</td>\n      <td>300</td>\n      <td>Sales</td>\n      <td>0.80</td>\n      <td>Torre Perree</td>\n    </tr>\n  </tbody>\n</table>\n<p>1626 rows × 7 columns</p>\n</div>"
     },
     "execution_count": 73,
     "metadata": {},
     "output_type": "execute_result"
    }
   ],
   "source": [
    "users"
   ]
  },
  {
   "cell_type": "code",
   "execution_count": 74,
   "id": "d7b186eb",
   "metadata": {},
   "outputs": [],
   "source": [
    "## Shuffle users \n",
    "users = users.sample(frac=1).reset_index(drop=True)"
   ]
  },
  {
   "cell_type": "markdown",
   "id": "8f04309a",
   "metadata": {},
   "source": [
    "### Read workflow def"
   ]
  },
  {
   "cell_type": "code",
   "execution_count": 75,
   "id": "a0983c2f",
   "metadata": {},
   "outputs": [],
   "source": [
    "teams_df = pd.read_excel(\"../../data/workflow.xlsx\", sheet_name=\"teams\")\n",
    "teams = teams_df['Team'].tolist()\n",
    "\n",
    "steps_df = pd.read_excel(\"../../data/workflow.xlsx\", sheet_name=\"steps\")\n",
    "step_names = steps_df['Step'].tolist()\n",
    "\n",
    "users_df = pd.read_excel(\"../../data/users_processed.xlsx\")\n"
   ]
  },
  {
   "cell_type": "code",
   "execution_count": 76,
   "id": "69f0693f",
   "metadata": {},
   "outputs": [],
   "source": [
    "tz_list = users_df['tz'].unique()\n"
   ]
  },
  {
   "cell_type": "code",
   "execution_count": 77,
   "id": "28133442",
   "metadata": {},
   "outputs": [
    {
     "data": {
      "text/plain": "array(['Asia/Colombo', 'Asia/Manila', 'Asia/Harbin', 'Europe/Volgograd',\n       'Asia/Jakarta', 'Asia/Shanghai', 'Europe/Stockholm',\n       'Asia/Chongqing', 'Europe/Zaporozhye', 'Asia/Yakutsk',\n       'Europe/Oslo', 'Asia/Nicosia', 'Asia/Makassar', 'Europe/Paris',\n       'Europe/Uzhgorod', 'Europe/Lisbon', 'Europe/Warsaw',\n       'America/Guayaquil', 'Atlantic/Cape_Verde', 'Asia/Yekaterinburg',\n       'America/Port-au-Prince', 'America/Jamaica', 'America/Lima',\n       'Europe/Moscow', 'Asia/Pontianak', 'Asia/Tehran', 'Europe/Tallinn',\n       'America/Sao_Paulo', 'America/Mexico_City', 'Asia/Tokyo',\n       'Pacific/Auckland', 'America/Mazatlan', 'Africa/Johannesburg',\n       'America/Montreal', 'America/Asuncion', 'America/Phoenix',\n       'America/Denver', 'Europe/Minsk', 'Asia/Sakhalin',\n       'Europe/Amsterdam', 'America/Bogota', 'Asia/Irkutsk',\n       'Asia/Almaty', 'America/Monterrey', 'Europe/Helsinki',\n       'America/Moncton', 'Europe/Ljubljana', 'Asia/Bangkok',\n       'America/Santarem', 'Africa/Mbabane',\n       'America/Argentina/Buenos_Aires', 'America/New_York',\n       'America/El_Salvador', 'Africa/Accra', 'Europe/Rome',\n       'America/Port_of_Spain', 'Europe/Belgrade', 'Europe/Vaduz',\n       'Asia/Qyzylorda', 'Europe/Prague', 'America/Fortaleza',\n       'Africa/Tunis', 'America/Havana', 'Asia/Yerevan', 'Asia/Urumqi',\n       'Europe/Madrid', 'Asia/Karachi', 'America/Santo_Domingo',\n       'America/Recife', 'America/Maceio', 'Europe/Dublin', 'Asia/Seoul',\n       'America/Puerto_Rico', 'America/Tegucigalpa', 'Asia/Dushanbe',\n       'Europe/Kiev', 'America/Caracas', 'Pacific/Tahiti',\n       'Africa/Brazzaville', 'Asia/Riyadh', 'Africa/Harare',\n       'Africa/Casablanca', 'Asia/Omsk', 'Europe/Budapest',\n       'America/Guatemala', 'Pacific/Rarotonga', 'Europe/London',\n       'America/Los_Angeles', 'Africa/Abidjan', 'Europe/Luxembourg',\n       'Europe/Vienna', 'America/Argentina/Tucuman', 'Europe/Sofia',\n       'America/Edmonton', 'Africa/Niamey', 'Indian/Mauritius',\n       'Asia/Bishkek', 'America/Costa_Rica', 'Africa/Lagos',\n       'Europe/Riga', 'Africa/Freetown', 'America/Guadeloupe',\n       'Africa/Lubumbashi', 'Asia/Jayapura', 'Africa/Nairobi',\n       'America/Argentina/Catamarca', 'Asia/Kolkata', 'Indian/Comoro',\n       'America/Chicago', 'Europe/Tirane', 'Europe/Chisinau',\n       'Asia/Ho_Chi_Minh', 'Asia/Baku', 'America/Managua',\n       'Asia/Pyongyang', 'Africa/Dar_es_Salaam', 'America/Panama',\n       'America/La_Paz', 'America/Argentina/Cordoba', 'Africa/Dakar',\n       'Asia/Phnom_Penh', 'Africa/Monrovia', 'Europe/Brussels',\n       'Europe/Zagreb', 'Europe/Sarajevo', 'Asia/Ulaanbaatar',\n       'America/Indiana/Indianapolis', 'Africa/Banjul',\n       'Asia/Kuala_Lumpur', 'Africa/Bangui', 'Africa/Addis_Ababa',\n       'Asia/Tbilisi', 'Asia/Thimphu', 'Africa/Tripoli', 'Europe/Berlin',\n       'Africa/Douala', 'America/Hermosillo', 'Indian/Antananarivo',\n       'Europe/Simferopol', 'America/Anchorage', 'Europe/Skopje',\n       'America/Bahia', 'Asia/Vientiane', 'Pacific/Palau',\n       'Asia/Samarkand', 'America/Porto_Velho', 'Asia/Krasnoyarsk',\n       'Asia/Beirut', 'America/Belize', 'Asia/Kathmandu',\n       'America/Montevideo', 'Africa/Khartoum', 'Indian/Christmas',\n       'Africa/Mogadishu', 'America/Manaus', 'Africa/Kampala',\n       'Africa/Conakry', 'Asia/Vladivostok', 'Africa/Blantyre',\n       'Africa/Bujumbura', 'Pacific/Efate', 'Asia/Kashgar',\n       'Pacific/Saipan', 'America/Argentina/San_Juan', 'Africa/Windhoek',\n       'Europe/Samara', 'America/Campo_Grande', 'Asia/Kuching',\n       'Asia/Novosibirsk', 'Europe/Malta', 'Africa/Kigali',\n       'Africa/Bamako', 'America/Guyana', 'America/Santiago',\n       'Asia/Rangoon', 'America/Argentina/Salta', 'Asia/Jerusalem',\n       'Pacific/Guam', 'Africa/Juba', 'Asia/Aden', 'America/Halifax',\n       'Africa/Lusaka', 'Asia/Kabul', 'Asia/Ashgabat', 'America/Winnipeg',\n       'America/Toronto', 'America/Vancouver', 'America/Barbados',\n       'Europe/Vilnius', 'Indian/Maldives', 'Asia/Kamchatka'],\n      dtype=object)"
     },
     "execution_count": 77,
     "metadata": {},
     "output_type": "execute_result"
    }
   ],
   "source": [
    "tz_list"
   ]
  },
  {
   "cell_type": "code",
   "execution_count": 78,
   "id": "73d49510",
   "metadata": {},
   "outputs": [],
   "source": [
    "def get_rows_by_val(df, col, val, reset_index=True):\n",
    "    temp_df = df.loc[df[col] == val]\n",
    "    if reset_index:\n",
    "        temp_df.reset_index(drop=True, inplace=True)\n",
    "    return temp_df    "
   ]
  },
  {
   "cell_type": "code",
   "execution_count": 79,
   "id": "142b43d4",
   "metadata": {},
   "outputs": [],
   "source": [
    "def get_users_by_team(user_df, team):\n",
    "    temp_df = get_rows_by_val(user_df, 'team', team)\n",
    "    return temp_df"
   ]
  },
  {
   "cell_type": "code",
   "execution_count": 80,
   "id": "b8680571",
   "metadata": {},
   "outputs": [
    {
     "name": "stdout",
     "output_type": "stream",
     "text": [
      "Reading teams\n",
      "step : ColdCall team : Sales , #users : 317\n",
      "step : Demo & POC team : Pre-Sales , #users : 355\n",
      "step : Negotiate team : AccountRep , #users : 303\n",
      "step : Deploy team : CustomerSuccess , #users : 344\n",
      "step : Test team : QA , #users : 307\n"
     ]
    }
   ],
   "source": [
    "team_col_idx = 1\n",
    "print(\"Reading teams\")\n",
    "steps={}\n",
    "\n",
    "for i in range(len(step_names)):\n",
    "    step = {}\n",
    "    step_name = step_names[i]\n",
    "    if i == len(step_names)-1:\n",
    "        next_step = None\n",
    "    else:\n",
    "        next_step = step_names[i+1]\n",
    "    step[\"next_step\"]=next_step\n",
    "\n",
    "    row_df = steps_df.loc[steps_df['Step'] == step_name]\n",
    "    team_name = row_df.iat[0,1]\n",
    "    step[\"team\"] = team_name\n",
    "    steps[step_name]=step\n",
    "\n",
    "\n",
    "for s in steps.keys():\n",
    "    step = steps[s]\n",
    "    tmp_df = get_users_by_team(users_df,step[\"team\"])\n",
    "    user_count = len(tmp_df.index)\n",
    "    print(\"step : \" + s +\" team : \"+step[\"team\"] + \" , #users : \"+str(user_count))\n",
    "\n"
   ]
  },
  {
   "cell_type": "code",
   "execution_count": 81,
   "id": "74df495b",
   "metadata": {
    "pycharm": {
     "name": "#%%\n"
    }
   },
   "outputs": [
    {
     "data": {
      "text/plain": "{'ColdCall': {'next_step': 'Demo & POC', 'team': 'Sales'},\n 'Demo & POC': {'next_step': 'Negotiate', 'team': 'Pre-Sales'},\n 'Negotiate': {'next_step': 'Deploy', 'team': 'AccountRep'},\n 'Deploy': {'next_step': 'Test', 'team': 'CustomerSuccess'},\n 'Test': {'next_step': None, 'team': 'QA'}}"
     },
     "execution_count": 81,
     "metadata": {},
     "output_type": "execute_result"
    }
   ],
   "source": [
    "steps\n",
    "\n"
   ]
  },
  {
   "cell_type": "markdown",
   "id": "7a7f20fd",
   "metadata": {
    "pycharm": {
     "name": "#%%\n"
    }
   },
   "source": [
    "### Generate tasks for step 1 "
   ]
  },
  {
   "cell_type": "code",
   "execution_count": 82,
   "id": "a0e03d2a",
   "metadata": {
    "pycharm": {
     "name": "#%%\n"
    }
   },
   "outputs": [],
   "source": [
    "task_count = 5000\n",
    "task_id = 0\n",
    "tasks = []\n",
    "for i in range(task_count):\n",
    "    task_type = step_name[0]\n",
    "    task_tz = random.choice(tz_list)\n",
    "    task_id += 1\n",
    "    task = {'task_id':task_id}\n",
    "    tasks.append(task)\n"
   ]
  },
  {
   "cell_type": "code",
   "execution_count": 83,
   "id": "fe29af3f",
   "metadata": {
    "pycharm": {
     "name": "#%%\n"
    }
   },
   "outputs": [],
   "source": [
    "state_of_world = {\n",
    "    'current_time': datetime.datetime(2005, 1, 1, 1, 0, 0, 0, tzinfo=datetime.timezone.utc),\n",
    "    'tzs': tz_list,\n",
    "    'tasks' : steps,\n",
    "    'users' : users,\n",
    "    'user_tasks' : {},\n",
    "    'task_id_cntr' : 0,\n",
    "    'task_instance_id_cntr' : 0,\n",
    "}"
   ]
  },
  {
   "cell_type": "code",
   "execution_count": 84,
   "id": "27fa4294",
   "metadata": {
    "pycharm": {
     "name": "#%%\n"
    }
   },
   "outputs": [
    {
     "data": {
      "text/plain": "{'current_time': datetime.datetime(2005, 1, 1, 1, 0, tzinfo=datetime.timezone.utc),\n 'tzs': array(['Asia/Colombo', 'Asia/Manila', 'Asia/Harbin', 'Europe/Volgograd',\n        'Asia/Jakarta', 'Asia/Shanghai', 'Europe/Stockholm',\n        'Asia/Chongqing', 'Europe/Zaporozhye', 'Asia/Yakutsk',\n        'Europe/Oslo', 'Asia/Nicosia', 'Asia/Makassar', 'Europe/Paris',\n        'Europe/Uzhgorod', 'Europe/Lisbon', 'Europe/Warsaw',\n        'America/Guayaquil', 'Atlantic/Cape_Verde', 'Asia/Yekaterinburg',\n        'America/Port-au-Prince', 'America/Jamaica', 'America/Lima',\n        'Europe/Moscow', 'Asia/Pontianak', 'Asia/Tehran', 'Europe/Tallinn',\n        'America/Sao_Paulo', 'America/Mexico_City', 'Asia/Tokyo',\n        'Pacific/Auckland', 'America/Mazatlan', 'Africa/Johannesburg',\n        'America/Montreal', 'America/Asuncion', 'America/Phoenix',\n        'America/Denver', 'Europe/Minsk', 'Asia/Sakhalin',\n        'Europe/Amsterdam', 'America/Bogota', 'Asia/Irkutsk',\n        'Asia/Almaty', 'America/Monterrey', 'Europe/Helsinki',\n        'America/Moncton', 'Europe/Ljubljana', 'Asia/Bangkok',\n        'America/Santarem', 'Africa/Mbabane',\n        'America/Argentina/Buenos_Aires', 'America/New_York',\n        'America/El_Salvador', 'Africa/Accra', 'Europe/Rome',\n        'America/Port_of_Spain', 'Europe/Belgrade', 'Europe/Vaduz',\n        'Asia/Qyzylorda', 'Europe/Prague', 'America/Fortaleza',\n        'Africa/Tunis', 'America/Havana', 'Asia/Yerevan', 'Asia/Urumqi',\n        'Europe/Madrid', 'Asia/Karachi', 'America/Santo_Domingo',\n        'America/Recife', 'America/Maceio', 'Europe/Dublin', 'Asia/Seoul',\n        'America/Puerto_Rico', 'America/Tegucigalpa', 'Asia/Dushanbe',\n        'Europe/Kiev', 'America/Caracas', 'Pacific/Tahiti',\n        'Africa/Brazzaville', 'Asia/Riyadh', 'Africa/Harare',\n        'Africa/Casablanca', 'Asia/Omsk', 'Europe/Budapest',\n        'America/Guatemala', 'Pacific/Rarotonga', 'Europe/London',\n        'America/Los_Angeles', 'Africa/Abidjan', 'Europe/Luxembourg',\n        'Europe/Vienna', 'America/Argentina/Tucuman', 'Europe/Sofia',\n        'America/Edmonton', 'Africa/Niamey', 'Indian/Mauritius',\n        'Asia/Bishkek', 'America/Costa_Rica', 'Africa/Lagos',\n        'Europe/Riga', 'Africa/Freetown', 'America/Guadeloupe',\n        'Africa/Lubumbashi', 'Asia/Jayapura', 'Africa/Nairobi',\n        'America/Argentina/Catamarca', 'Asia/Kolkata', 'Indian/Comoro',\n        'America/Chicago', 'Europe/Tirane', 'Europe/Chisinau',\n        'Asia/Ho_Chi_Minh', 'Asia/Baku', 'America/Managua',\n        'Asia/Pyongyang', 'Africa/Dar_es_Salaam', 'America/Panama',\n        'America/La_Paz', 'America/Argentina/Cordoba', 'Africa/Dakar',\n        'Asia/Phnom_Penh', 'Africa/Monrovia', 'Europe/Brussels',\n        'Europe/Zagreb', 'Europe/Sarajevo', 'Asia/Ulaanbaatar',\n        'America/Indiana/Indianapolis', 'Africa/Banjul',\n        'Asia/Kuala_Lumpur', 'Africa/Bangui', 'Africa/Addis_Ababa',\n        'Asia/Tbilisi', 'Asia/Thimphu', 'Africa/Tripoli', 'Europe/Berlin',\n        'Africa/Douala', 'America/Hermosillo', 'Indian/Antananarivo',\n        'Europe/Simferopol', 'America/Anchorage', 'Europe/Skopje',\n        'America/Bahia', 'Asia/Vientiane', 'Pacific/Palau',\n        'Asia/Samarkand', 'America/Porto_Velho', 'Asia/Krasnoyarsk',\n        'Asia/Beirut', 'America/Belize', 'Asia/Kathmandu',\n        'America/Montevideo', 'Africa/Khartoum', 'Indian/Christmas',\n        'Africa/Mogadishu', 'America/Manaus', 'Africa/Kampala',\n        'Africa/Conakry', 'Asia/Vladivostok', 'Africa/Blantyre',\n        'Africa/Bujumbura', 'Pacific/Efate', 'Asia/Kashgar',\n        'Pacific/Saipan', 'America/Argentina/San_Juan', 'Africa/Windhoek',\n        'Europe/Samara', 'America/Campo_Grande', 'Asia/Kuching',\n        'Asia/Novosibirsk', 'Europe/Malta', 'Africa/Kigali',\n        'Africa/Bamako', 'America/Guyana', 'America/Santiago',\n        'Asia/Rangoon', 'America/Argentina/Salta', 'Asia/Jerusalem',\n        'Pacific/Guam', 'Africa/Juba', 'Asia/Aden', 'America/Halifax',\n        'Africa/Lusaka', 'Asia/Kabul', 'Asia/Ashgabat', 'America/Winnipeg',\n        'America/Toronto', 'America/Vancouver', 'America/Barbados',\n        'Europe/Vilnius', 'Indian/Maldives', 'Asia/Kamchatka'],\n       dtype=object),\n 'tasks': {'ColdCall': {'next_step': 'Demo & POC', 'team': 'Sales'},\n  'Demo & POC': {'next_step': 'Negotiate', 'team': 'Pre-Sales'},\n  'Negotiate': {'next_step': 'Deploy', 'team': 'AccountRep'},\n  'Deploy': {'next_step': 'Test', 'team': 'CustomerSuccess'},\n  'Test': {'next_step': None, 'team': 'QA'}},\n 'users':         id                  city                  tz  utc_offset       team  \\\n 0     1937          Quezalguaque     America/Managua        -600  Pre-Sales   \n 1     1434                   Una       America/Bahia        -300         QA   \n 2      587                  Lyon        Europe/Paris         200         QA   \n 3      125           San Antonio   America/Monterrey        -500  Pre-Sales   \n 4     1178              Pengdian       Asia/Shanghai         800      Sales   \n ...    ...                   ...                 ...         ...        ...   \n 1621    39              Lobanovo  Asia/Yekaterinburg         500         QA   \n 1622  1196           Sestroretsk       Europe/Moscow         300      Sales   \n 1623   330                Sarany  Asia/Yekaterinburg         500         QA   \n 1624   623  Brgy. Nalook, kalibo         Asia/Manila         800  Pre-Sales   \n 1625  1756           Sayang Lauq       Asia/Makassar         800      Sales   \n \n       performance               name  \n 0            0.91    Zebedee Raiston  \n 1            1.04    Richmond Kybird  \n 2            1.18      Lewiss Piniur  \n 3            0.90         Anni Troop  \n 4            0.91      Inger Wearden  \n ...           ...                ...  \n 1621         0.67     Carita McNulty  \n 1622         1.15     Wandis Hilling  \n 1623         0.93     Giacomo Camlin  \n 1624         0.72     Ronny Banbrick  \n 1625         1.10  Gavrielle Wasmuth  \n \n [1626 rows x 7 columns],\n 'user_tasks': {},\n 'task_id_cntr': 0,\n 'task_instance_id_cntr': 0}"
     },
     "execution_count": 84,
     "metadata": {},
     "output_type": "execute_result"
    }
   ],
   "source": [
    "state_of_world"
   ]
  },
  {
   "cell_type": "code",
   "execution_count": 85,
   "id": "f5193c48",
   "metadata": {
    "pycharm": {
     "name": "#%%\n"
    }
   },
   "outputs": [],
   "source": [
    "def get_users_for_task(task_instance, state):\n",
    "    task_type = task_instance['task_type']\n",
    "    task = state['tasks'][task_type]\n",
    "    team = task['team']\n",
    "    elig_users = get_users_by_team(state['users'], team)\n",
    "    return elig_users"
   ]
  },
  {
   "cell_type": "code",
   "execution_count": 86,
   "id": "e2541157",
   "metadata": {
    "pycharm": {
     "name": "#%%\n"
    }
   },
   "outputs": [],
   "source": [
    "def get_next_task_step(current_step):\n",
    "    if current_step is None:\n",
    "        step = step_names[0]\n",
    "    else:\n",
    "        step = steps[current_step][\"next_step\"]\n",
    "    return step"
   ]
  },
  {
   "cell_type": "code",
   "execution_count": 104,
   "id": "a7580a4b",
   "metadata": {
    "pycharm": {
     "name": "#%%\n"
    }
   },
   "outputs": [],
   "source": [
    "\n",
    "\n",
    "\n",
    "def generate_and_assign_workflow_action(state, prev_inst=None):\n",
    "    inst={}\n",
    "    if prev_inst is None:\n",
    "        next_step = get_next_task_step(None)\n",
    "        state['task_id_cntr'] += 1\n",
    "        task_id = state['task_id_cntr']\n",
    "        prev_task_instance_id = None\n",
    "    else:\n",
    "        next_step = get_next_task_step(prev_inst['task_type'])\n",
    "        task_id = prev_inst['task_id']\n",
    "        prev_task_instance_id = prev_inst['task_instance_id']\n",
    "    if next_step is None:\n",
    "        #Do nothing\n",
    "        return None\n",
    "    else:\n",
    "        inst['prev_task_instance_id'] = prev_task_instance_id\n",
    "        task_instance_id = state['task_instance_id_cntr']\n",
    "        state['task_instance_id_cntr'] += 1\n",
    "        inst['tz'] = random.choice(state['tzs'])\n",
    "        #Find all users who can execute this task\n",
    "        inst['task_id'] = task_id\n",
    "        inst['task_instance_id'] = task_instance_id\n",
    "        if prev_inst is not None:\n",
    "            prev_inst['next_task_instance_id'] = task_instance_id\n",
    "        inst['task_type'] = next_step\n",
    "        inst['task_type'] = next_step\n",
    "        elig_users = get_users_for_task(inst , state)\n",
    "        user_ids = elig_users['id'].unique()\n",
    "        inst['user_id'] = random.choice(user_ids)\n",
    "        inst['creation_time_utc'] = state['current_time']\n",
    "        inst['next_task_instance_id'] = None\n",
    "        inst['start_time_utc'] = None\n",
    "        inst['stop_time_utc'] = None\n",
    "        return inst\n",
    "\n"
   ]
  },
  {
   "cell_type": "code",
   "execution_count": 88,
   "id": "0acc02db",
   "metadata": {
    "pycharm": {
     "name": "#%%\n"
    }
   },
   "outputs": [],
   "source": [
    "state = state_of_world"
   ]
  },
  {
   "cell_type": "code",
   "execution_count": 105,
   "id": "39c70423",
   "metadata": {
    "pycharm": {
     "name": "#%%"
    }
   },
   "outputs": [],
   "source": [
    "task = None\n",
    "task_instances = []\n",
    "for i in range(100):\n",
    "    task = generate_and_assign_workflow_action(state,task)\n",
    "    if task is not None:\n",
    "        task_instances.append(task)"
   ]
  },
  {
   "cell_type": "code",
   "execution_count": 106,
   "outputs": [],
   "source": [
    "\n",
    "t_inst_df = pd.DataFrame(task_instances)"
   ],
   "metadata": {
    "collapsed": false,
    "pycharm": {
     "name": "#%%\n"
    }
   }
  },
  {
   "cell_type": "code",
   "execution_count": 107,
   "outputs": [
    {
     "data": {
      "text/plain": "    prev_task_instance_id                   tz  task_id  task_instance_id  \\\n0                     NaN     Pacific/Auckland       41               174   \n1                   174.0    Europe/Luxembourg       41               175   \n2                   175.0   America/Costa_Rica       41               176   \n3                   176.0      Indian/Maldives       41               177   \n4                   177.0        Asia/Dushanbe       41               178   \n..                    ...                  ...      ...               ...   \n79                  252.0    America/Monterrey       56               253   \n80                    NaN   America/Guadeloupe       57               254   \n81                  254.0  Atlantic/Cape_Verde       57               255   \n82                  255.0     Asia/Ulaanbaatar       57               256   \n83                  256.0          Africa/Juba       57               257   \n\n     task_type  user_id         creation_time_utc  next_task_instance_id  \\\n0     ColdCall      565 2005-01-01 01:00:00+00:00                  175.0   \n1   Demo & POC      333 2005-01-01 01:00:00+00:00                  176.0   \n2    Negotiate       13 2005-01-01 01:00:00+00:00                  177.0   \n3       Deploy      170 2005-01-01 01:00:00+00:00                  178.0   \n4         Test      468 2005-01-01 01:00:00+00:00                    NaN   \n..         ...      ...                       ...                    ...   \n79        Test      355 2005-01-01 01:00:00+00:00                    NaN   \n80    ColdCall      149 2005-01-01 01:00:00+00:00                  255.0   \n81  Demo & POC      856 2005-01-01 01:00:00+00:00                  256.0   \n82   Negotiate      852 2005-01-01 01:00:00+00:00                  257.0   \n83      Deploy     1417 2005-01-01 01:00:00+00:00                    NaN   \n\n   start_time_utc stop_time_utc  \n0            None          None  \n1            None          None  \n2            None          None  \n3            None          None  \n4            None          None  \n..            ...           ...  \n79           None          None  \n80           None          None  \n81           None          None  \n82           None          None  \n83           None          None  \n\n[84 rows x 10 columns]",
      "text/html": "<div>\n<style scoped>\n    .dataframe tbody tr th:only-of-type {\n        vertical-align: middle;\n    }\n\n    .dataframe tbody tr th {\n        vertical-align: top;\n    }\n\n    .dataframe thead th {\n        text-align: right;\n    }\n</style>\n<table border=\"1\" class=\"dataframe\">\n  <thead>\n    <tr style=\"text-align: right;\">\n      <th></th>\n      <th>prev_task_instance_id</th>\n      <th>tz</th>\n      <th>task_id</th>\n      <th>task_instance_id</th>\n      <th>task_type</th>\n      <th>user_id</th>\n      <th>creation_time_utc</th>\n      <th>next_task_instance_id</th>\n      <th>start_time_utc</th>\n      <th>stop_time_utc</th>\n    </tr>\n  </thead>\n  <tbody>\n    <tr>\n      <th>0</th>\n      <td>NaN</td>\n      <td>Pacific/Auckland</td>\n      <td>41</td>\n      <td>174</td>\n      <td>ColdCall</td>\n      <td>565</td>\n      <td>2005-01-01 01:00:00+00:00</td>\n      <td>175.0</td>\n      <td>None</td>\n      <td>None</td>\n    </tr>\n    <tr>\n      <th>1</th>\n      <td>174.0</td>\n      <td>Europe/Luxembourg</td>\n      <td>41</td>\n      <td>175</td>\n      <td>Demo &amp; POC</td>\n      <td>333</td>\n      <td>2005-01-01 01:00:00+00:00</td>\n      <td>176.0</td>\n      <td>None</td>\n      <td>None</td>\n    </tr>\n    <tr>\n      <th>2</th>\n      <td>175.0</td>\n      <td>America/Costa_Rica</td>\n      <td>41</td>\n      <td>176</td>\n      <td>Negotiate</td>\n      <td>13</td>\n      <td>2005-01-01 01:00:00+00:00</td>\n      <td>177.0</td>\n      <td>None</td>\n      <td>None</td>\n    </tr>\n    <tr>\n      <th>3</th>\n      <td>176.0</td>\n      <td>Indian/Maldives</td>\n      <td>41</td>\n      <td>177</td>\n      <td>Deploy</td>\n      <td>170</td>\n      <td>2005-01-01 01:00:00+00:00</td>\n      <td>178.0</td>\n      <td>None</td>\n      <td>None</td>\n    </tr>\n    <tr>\n      <th>4</th>\n      <td>177.0</td>\n      <td>Asia/Dushanbe</td>\n      <td>41</td>\n      <td>178</td>\n      <td>Test</td>\n      <td>468</td>\n      <td>2005-01-01 01:00:00+00:00</td>\n      <td>NaN</td>\n      <td>None</td>\n      <td>None</td>\n    </tr>\n    <tr>\n      <th>...</th>\n      <td>...</td>\n      <td>...</td>\n      <td>...</td>\n      <td>...</td>\n      <td>...</td>\n      <td>...</td>\n      <td>...</td>\n      <td>...</td>\n      <td>...</td>\n      <td>...</td>\n    </tr>\n    <tr>\n      <th>79</th>\n      <td>252.0</td>\n      <td>America/Monterrey</td>\n      <td>56</td>\n      <td>253</td>\n      <td>Test</td>\n      <td>355</td>\n      <td>2005-01-01 01:00:00+00:00</td>\n      <td>NaN</td>\n      <td>None</td>\n      <td>None</td>\n    </tr>\n    <tr>\n      <th>80</th>\n      <td>NaN</td>\n      <td>America/Guadeloupe</td>\n      <td>57</td>\n      <td>254</td>\n      <td>ColdCall</td>\n      <td>149</td>\n      <td>2005-01-01 01:00:00+00:00</td>\n      <td>255.0</td>\n      <td>None</td>\n      <td>None</td>\n    </tr>\n    <tr>\n      <th>81</th>\n      <td>254.0</td>\n      <td>Atlantic/Cape_Verde</td>\n      <td>57</td>\n      <td>255</td>\n      <td>Demo &amp; POC</td>\n      <td>856</td>\n      <td>2005-01-01 01:00:00+00:00</td>\n      <td>256.0</td>\n      <td>None</td>\n      <td>None</td>\n    </tr>\n    <tr>\n      <th>82</th>\n      <td>255.0</td>\n      <td>Asia/Ulaanbaatar</td>\n      <td>57</td>\n      <td>256</td>\n      <td>Negotiate</td>\n      <td>852</td>\n      <td>2005-01-01 01:00:00+00:00</td>\n      <td>257.0</td>\n      <td>None</td>\n      <td>None</td>\n    </tr>\n    <tr>\n      <th>83</th>\n      <td>256.0</td>\n      <td>Africa/Juba</td>\n      <td>57</td>\n      <td>257</td>\n      <td>Deploy</td>\n      <td>1417</td>\n      <td>2005-01-01 01:00:00+00:00</td>\n      <td>NaN</td>\n      <td>None</td>\n      <td>None</td>\n    </tr>\n  </tbody>\n</table>\n<p>84 rows × 10 columns</p>\n</div>"
     },
     "execution_count": 107,
     "metadata": {},
     "output_type": "execute_result"
    }
   ],
   "source": [
    "t_inst_df\n"
   ],
   "metadata": {
    "collapsed": false,
    "pycharm": {
     "name": "#%%\n"
    }
   }
  },
  {
   "cell_type": "code",
   "execution_count": 100,
   "outputs": [
    {
     "data": {
      "text/plain": "{'task_id': 23,\n 'task_instance_id': 89,\n 'task_type': 'ColdCall',\n 'user_id': 414,\n 'creation_time_utc': datetime.datetime(2005, 1, 1, 1, 0, tzinfo=datetime.timezone.utc),\n 'next_task_instance_id': None,\n 'start_time_utc': None,\n 'stop_time_utc': None}"
     },
     "execution_count": 100,
     "metadata": {},
     "output_type": "execute_result"
    }
   ],
   "source": [
    "task = None\n",
    "task = generate_and_assign_workflow_action(state,task)\n",
    "task\n"
   ],
   "metadata": {
    "collapsed": false,
    "pycharm": {
     "name": "#%%\n"
    }
   }
  }
 ],
 "metadata": {
  "kernelspec": {
   "display_name": "Python 3 (ipykernel)",
   "language": "python",
   "name": "python3"
  },
  "language_info": {
   "codemirror_mode": {
    "name": "ipython",
    "version": 3
   },
   "file_extension": ".py",
   "mimetype": "text/x-python",
   "name": "python",
   "nbconvert_exporter": "python",
   "pygments_lexer": "ipython3",
   "version": "3.8.10"
  }
 },
 "nbformat": 4,
 "nbformat_minor": 5
}
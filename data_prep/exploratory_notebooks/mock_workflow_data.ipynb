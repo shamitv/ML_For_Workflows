{
 "cells": [
  {
   "cell_type": "code",
   "execution_count": null,
   "id": "602af95b",
   "metadata": {},
   "outputs": [],
   "source": [
    "import pandas as pd\n",
    "import datetime, pytz\n",
    "import random"
   ]
  },
  {
   "cell_type": "markdown",
   "id": "b8bf2be1",
   "metadata": {},
   "source": [
    "### Read users"
   ]
  },
  {
   "cell_type": "code",
   "execution_count": null,
   "id": "b10b5c93",
   "metadata": {},
   "outputs": [],
   "source": [
    "users = pd.read_excel(\"../../data/users_processed.xlsx\")"
   ]
  },
  {
   "cell_type": "code",
   "execution_count": null,
   "id": "728c2402",
   "metadata": {
    "pycharm": {
     "name": "#%%\n"
    }
   },
   "outputs": [],
   "source": [
    "users"
   ]
  },
  {
   "cell_type": "code",
   "execution_count": null,
   "id": "d7b186eb",
   "metadata": {},
   "outputs": [],
   "source": [
    "## Shuffle users \n",
    "users = users.sample(frac=1).reset_index(drop=True)"
   ]
  },
  {
   "cell_type": "markdown",
   "id": "8f04309a",
   "metadata": {},
   "source": [
    "### Read workflow def"
   ]
  },
  {
   "cell_type": "code",
   "execution_count": null,
   "id": "a0983c2f",
   "metadata": {},
   "outputs": [],
   "source": [
    "teams_df = pd.read_excel(\"../../data/workflow.xlsx\", sheet_name=\"teams\")\n",
    "teams = teams_df['Team'].tolist()\n",
    "\n",
    "steps_df = pd.read_excel(\"../../data/workflow.xlsx\", sheet_name=\"steps\")\n",
    "step_names = steps_df['Step'].tolist()\n",
    "\n",
    "users_df = pd.read_excel(\"../../data/users_processed.xlsx\")\n"
   ]
  },
  {
   "cell_type": "code",
   "execution_count": null,
   "id": "69f0693f",
   "metadata": {},
   "outputs": [],
   "source": [
    "tz_list = users_df['tz'].unique()\n"
   ]
  },
  {
   "cell_type": "code",
   "execution_count": null,
   "id": "1879900c",
   "metadata": {},
   "outputs": [],
   "source": [
    "state_of_world = {\n",
    "    'current_time': datetime.datetime(2005, 1, 1, 1, 0, 0, 0, tzinfo=datetime.timezone.utc),\n",
    "    'tzs': tz_list,\n",
    "    'tasks' : None,\n",
    "    'users' : users,\n",
    "    'user_tasks' : {},\n",
    "    'task_id_cntr' : 0,\n",
    "    'task_instance_id_cntr' : 0,\n",
    "}"
   ]
  },
  {
   "cell_type": "code",
   "execution_count": null,
   "id": "73d49510",
   "metadata": {},
   "outputs": [],
   "source": [
    "def get_rows_by_val(df, col, val, reset_index=True):\n",
    "    temp_df = df.loc[df[col] == val]\n",
    "    if reset_index:\n",
    "        temp_df.reset_index(drop=True, inplace=True)\n",
    "    return temp_df    "
   ]
  },
  {
   "cell_type": "code",
   "execution_count": null,
   "id": "142b43d4",
   "metadata": {},
   "outputs": [],
   "source": [
    "def get_users_by_team(user_df, team):\n",
    "    temp_df = get_rows_by_val(user_df, 'team', team)\n",
    "    return temp_df"
   ]
  },
  {
   "cell_type": "code",
   "execution_count": null,
   "id": "ee013ff7",
   "metadata": {},
   "outputs": [],
   "source": [
    "def read_task_def(state,step_names):\n",
    "    team_col_idx = 1\n",
    "    steps={}\n",
    "    for i in range(len(step_names)):\n",
    "        step = {}\n",
    "        step_name = step_names[i]\n",
    "        if i == len(step_names)-1:\n",
    "            next_step = None\n",
    "        else:\n",
    "            next_step = step_names[i+1]\n",
    "        step[\"next_step\"]=next_step\n",
    "\n",
    "        row_df = steps_df.loc[steps_df['Step'] == step_name]\n",
    "        team_name = row_df.iat[0,1]\n",
    "        step[\"team\"] = team_name\n",
    "        steps[step_name]=step    \n",
    "    state['tasks']  = steps\n",
    "    "
   ]
  },
  {
   "cell_type": "code",
   "execution_count": null,
   "id": "74df495b",
   "metadata": {
    "pycharm": {
     "name": "#%%\n"
    }
   },
   "outputs": [],
   "source": [
    "read_task_def(state_of_world,step_names)\n",
    "\n"
   ]
  },
  {
   "cell_type": "code",
   "execution_count": null,
   "id": "13b34cf5",
   "metadata": {},
   "outputs": [],
   "source": [
    "state_of_world"
   ]
  },
  {
   "cell_type": "markdown",
   "id": "7a7f20fd",
   "metadata": {
    "pycharm": {
     "name": "#%%\n"
    }
   },
   "source": [
    "### Generate tasks for step 1 "
   ]
  },
  {
   "cell_type": "code",
   "execution_count": null,
   "id": "fe29af3f",
   "metadata": {
    "pycharm": {
     "name": "#%%\n"
    }
   },
   "outputs": [],
   "source": []
  },
  {
   "cell_type": "code",
   "execution_count": null,
   "id": "f5193c48",
   "metadata": {
    "pycharm": {
     "name": "#%%\n"
    }
   },
   "outputs": [],
   "source": [
    "def get_users_for_task(task_instance, state):\n",
    "    task_type = task_instance['task_type']\n",
    "    task = state['tasks'][task_type]\n",
    "    team = task['team']\n",
    "    elig_users = get_users_by_team(state['users'], team)\n",
    "    return elig_users"
   ]
  },
  {
   "cell_type": "code",
   "execution_count": null,
   "id": "e2541157",
   "metadata": {
    "pycharm": {
     "name": "#%%\n"
    }
   },
   "outputs": [],
   "source": [
    "def get_next_task_step(state,current_step):\n",
    "    if current_step is None:\n",
    "        step = step_names[0]\n",
    "    else:\n",
    "        step = state['tasks'][current_step][\"next_step\"]\n",
    "    return step"
   ]
  },
  {
   "cell_type": "code",
   "execution_count": null,
   "id": "a7580a4b",
   "metadata": {
    "pycharm": {
     "name": "#%%\n"
    }
   },
   "outputs": [],
   "source": [
    "\n",
    "\n",
    "\n",
    "def generate_and_assign_workflow_action(state, prev_inst=None):\n",
    "    inst={}\n",
    "    if prev_inst is None:\n",
    "        next_step = get_next_task_step(state,None)\n",
    "        state['task_id_cntr'] += 1\n",
    "        task_id = state['task_id_cntr']\n",
    "        prev_task_instance_id = None\n",
    "    else:\n",
    "        next_step = get_next_task_step(state,prev_inst['task_type'])\n",
    "        task_id = prev_inst['task_id']\n",
    "        prev_task_instance_id = prev_inst['task_instance_id']\n",
    "    if next_step is None:\n",
    "        #Do nothing\n",
    "        return None\n",
    "    else:\n",
    "        inst['prev_task_instance_id'] = prev_task_instance_id\n",
    "        task_instance_id = state['task_instance_id_cntr']\n",
    "        state['task_instance_id_cntr'] += 1\n",
    "        inst['tz'] = random.choice(state['tzs'])\n",
    "        #Find all users who can execute this task\n",
    "        inst['task_id'] = task_id\n",
    "        inst['task_instance_id'] = task_instance_id\n",
    "        if prev_inst is not None:\n",
    "            prev_inst['next_task_instance_id'] = task_instance_id\n",
    "        inst['task_type'] = next_step\n",
    "        inst['task_type'] = next_step\n",
    "        elig_users = get_users_for_task(inst , state)\n",
    "        user_ids = elig_users['id'].unique()\n",
    "        inst['user_id'] = random.choice(user_ids)\n",
    "        inst['creation_time_utc'] = state['current_time']\n",
    "        inst['next_task_instance_id'] = None\n",
    "        inst['start_time_utc'] = None\n",
    "        inst['stop_time_utc'] = None\n",
    "        return inst\n",
    "\n"
   ]
  },
  {
   "cell_type": "code",
   "execution_count": null,
   "id": "0acc02db",
   "metadata": {
    "pycharm": {
     "name": "#%%\n"
    }
   },
   "outputs": [],
   "source": [
    "state = state_of_world"
   ]
  },
  {
   "cell_type": "code",
   "execution_count": null,
   "id": "39c70423",
   "metadata": {
    "pycharm": {
     "name": "#%%"
    }
   },
   "outputs": [],
   "source": [
    "task = None\n",
    "task_instances = []\n",
    "for i in range(100):\n",
    "    task = generate_and_assign_workflow_action(state,task)\n",
    "    if task is not None:\n",
    "        task_instances.append(task)"
   ]
  },
  {
   "cell_type": "code",
   "execution_count": null,
   "id": "4a3b93d4",
   "metadata": {
    "pycharm": {
     "name": "#%%\n"
    }
   },
   "outputs": [],
   "source": [
    "\n",
    "t_inst_df = pd.DataFrame(task_instances)"
   ]
  },
  {
   "cell_type": "code",
   "execution_count": null,
   "id": "8ca882e1",
   "metadata": {
    "pycharm": {
     "name": "#%%\n"
    }
   },
   "outputs": [],
   "source": [
    "t_inst_df\n"
   ]
  },
  {
   "cell_type": "code",
   "execution_count": null,
   "id": "23a408e2",
   "metadata": {},
   "outputs": [],
   "source": []
  }
 ],
 "metadata": {
  "kernelspec": {
   "display_name": "Python 3 (ipykernel)",
   "language": "python",
   "name": "python3"
  },
  "language_info": {
   "codemirror_mode": {
    "name": "ipython",
    "version": 3
   },
   "file_extension": ".py",
   "mimetype": "text/x-python",
   "name": "python",
   "nbconvert_exporter": "python",
   "pygments_lexer": "ipython3",
   "version": "3.8.10"
  }
 },
 "nbformat": 4,
 "nbformat_minor": 5
}
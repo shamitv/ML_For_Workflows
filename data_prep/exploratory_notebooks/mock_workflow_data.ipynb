{
 "cells": [
  {
   "cell_type": "code",
   "execution_count": null,
   "id": "602af95b",
   "metadata": {},
   "outputs": [],
   "source": [
    "import pandas as pd\n",
    "import datetime, pytz\n",
    "import random"
   ]
  },
  {
   "cell_type": "markdown",
   "id": "b8bf2be1",
   "metadata": {},
   "source": [
    "### Read users"
   ]
  },
  {
   "cell_type": "code",
   "execution_count": null,
   "id": "b10b5c93",
   "metadata": {},
   "outputs": [],
   "source": [
    "users = pd.read_excel(\"../../data/users_processed.xlsx\")"
   ]
  },
  {
   "cell_type": "code",
   "execution_count": null,
   "id": "d7b186eb",
   "metadata": {},
   "outputs": [],
   "source": [
    "## Shuffle users \n",
    "users = users.sample(frac=1).reset_index(drop=True)"
   ]
  },
  {
   "cell_type": "markdown",
   "id": "8f04309a",
   "metadata": {},
   "source": [
    "### Read workflow def"
   ]
  },
  {
   "cell_type": "code",
   "execution_count": null,
   "id": "a0983c2f",
   "metadata": {},
   "outputs": [],
   "source": [
    "teams_df = pd.read_excel(\"../../data/workflow.xlsx\", sheet_name=\"teams\")\n",
    "teams = teams_df['Team'].tolist()\n",
    "\n",
    "steps_df = pd.read_excel(\"../../data/workflow.xlsx\", sheet_name=\"steps\")\n",
    "step_names = steps_df['Step'].tolist()\n",
    "\n",
    "users_df = pd.read_excel(\"../../data/users_processed.xlsx\")\n"
   ]
  },
  {
   "cell_type": "code",
   "execution_count": null,
   "id": "73d49510",
   "metadata": {},
   "outputs": [],
   "source": [
    "step_names"
   ]
  },
  {
   "cell_type": "code",
   "execution_count": null,
   "id": "142b43d4",
   "metadata": {},
   "outputs": [],
   "source": [
    "def get_users_by_team(user_df, team_name):\n",
    "    temp_df = users_df.loc[users_df['team'] == team_name]\n",
    "    temp_df.reset_index(drop=True, inplace=True)\n",
    "    return temp_df"
   ]
  },
  {
   "cell_type": "code",
   "execution_count": null,
   "id": "b8680571",
   "metadata": {},
   "outputs": [],
   "source": [
    "\n"
   ]
  },
  {
   "cell_type": "code",
   "execution_count": null,
   "outputs": [],
   "source": [],
   "metadata": {
    "collapsed": false,
    "pycharm": {
     "name": "#%%\n"
    }
   }
  },
  {
   "cell_type": "code",
   "execution_count": null,
   "outputs": [],
   "source": [
    "#team = 'Sales'\n",
    "\n",
    "#tmp_df = get_users_by_team(users_df,team)"
   ],
   "metadata": {
    "collapsed": false,
    "pycharm": {
     "name": "#%%\n"
    }
   }
  },
  {
   "cell_type": "code",
   "execution_count": null,
   "outputs": [],
   "source": [],
   "metadata": {
    "collapsed": false,
    "pycharm": {
     "name": "#%%\n"
    }
   }
  },
  {
   "cell_type": "code",
   "execution_count": null,
   "outputs": [],
   "source": [
    "team_col_idx = 1\n",
    "print(\"Reading teams\")\n",
    "for s in step_names:\n",
    "    row_df = steps_df.loc[steps_df['Step'] == s]\n",
    "    team_name = row_df.iat[0,1]\n",
    "    print(team_name)\n",
    "    tmp_df = get_users_by_team(users_df,team_name)\n",
    "    user_count = len(tmp_df.index)\n",
    "    print(\"team : \"+team_name + \" , #users : \"+str(user_count))\n"
   ],
   "metadata": {
    "collapsed": false,
    "pycharm": {
     "name": "#%%\n"
    }
   }
  }
 ],
 "metadata": {
  "kernelspec": {
   "display_name": "Python 3 (ipykernel)",
   "language": "python",
   "name": "python3"
  },
  "language_info": {
   "codemirror_mode": {
    "name": "ipython",
    "version": 3
   },
   "file_extension": ".py",
   "mimetype": "text/x-python",
   "name": "python",
   "nbconvert_exporter": "python",
   "pygments_lexer": "ipython3",
   "version": "3.8.10"
  }
 },
 "nbformat": 4,
 "nbformat_minor": 5
}
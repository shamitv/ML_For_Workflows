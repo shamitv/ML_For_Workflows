{
 "cells": [
  {
   "cell_type": "code",
   "execution_count": null,
   "id": "f64f0b52",
   "metadata": {},
   "outputs": [],
   "source": [
    "import pandas as pd\n",
    "import datetime, pytz\n",
    "import random"
   ]
  },
  {
   "cell_type": "code",
   "execution_count": null,
   "id": "1f336334",
   "metadata": {},
   "outputs": [],
   "source": [
    "def isascii_scalar(s):\n",
    "    s = str(s)\n",
    "    \"\"\"Check if the characters in string s are in ASCII, U+0-U+7F.\"\"\"\n",
    "    return len(s) == len(s.encode())\n",
    "\n",
    "\n",
    "def isascii(v):\n",
    "    if hasattr(v, '__len__') and (not isinstance(v, str)):\n",
    "        ret = []\n",
    "        for i in v:\n",
    "            ret.append(isascii_scalar(i))\n",
    "        return ret\n",
    "    else:\n",
    "        return isascii_scalar(v)"
   ]
  },
  {
   "cell_type": "code",
   "execution_count": null,
   "id": "96b2d053",
   "metadata": {},
   "outputs": [],
   "source": [
    "def translate_tz_name_scalar(s):\n",
    "    return datetime.datetime.now(pytz.timezone(s)).strftime('%z')\n",
    "\n",
    "\n",
    "def translate_tz_name(v):\n",
    "    if hasattr(v, '__len__') and (not isinstance(v, str)):\n",
    "        ret = []\n",
    "        for i in v:\n",
    "            ret.append(translate_tz_name_scalar(i))\n",
    "        return ret\n",
    "    else:\n",
    "        return translate_tz_name_scalar(v)"
   ]
  },
  {
   "cell_type": "markdown",
   "id": "dc88f19e",
   "metadata": {},
   "source": [
    "### Filter out names with non-ascii chars"
   ]
  },
  {
   "cell_type": "code",
   "execution_count": null,
   "id": "b4901bfd",
   "metadata": {},
   "outputs": [],
   "source": [
    "users_raw = pd.read_excel(\"../data/users.xlsx\", sheet_name=\"users\", index_col=\"id\")\n",
    "users = users_raw.copy()\n",
    "\n",
    "users[\"city_country\"] = users[\"city\"] + \"_\" + users[\"country\"]\n",
    "users[\"is_ascii\"] = isascii(users['city_country'])\n",
    "\n",
    "users = users[users[\"is_ascii\"] == True]"
   ]
  },
  {
   "cell_type": "markdown",
   "id": "fede7775",
   "metadata": {},
   "source": [
    "### Add column with TZ as UTC Offset"
   ]
  },
  {
   "cell_type": "code",
   "execution_count": null,
   "id": "b429bfdd",
   "metadata": {},
   "outputs": [],
   "source": [
    "users[\"utc_offset\"] = translate_tz_name(users['tz'])"
   ]
  },
  {
   "cell_type": "markdown",
   "id": "0625a69a",
   "metadata": {},
   "source": [
    "### Load Workflow Def"
   ]
  },
  {
   "cell_type": "code",
   "execution_count": null,
   "id": "da63b4e0",
   "metadata": {},
   "outputs": [],
   "source": [
    "teams_df = pd.read_excel(\"../data/workflow.xlsx\", sheet_name=\"teams\")\n",
    "teams = teams_df['Team'].tolist()\n",
    "\n",
    "steps_df = pd.read_excel(\"../data/workflow.xlsx\", sheet_name=\"steps\")\n"
   ]
  },
  {
   "cell_type": "markdown",
   "id": "6ab96908",
   "metadata": {},
   "source": [
    "### Assign users to teams (randomly)"
   ]
  },
  {
   "cell_type": "code",
   "execution_count": null,
   "id": "bba51ce5",
   "metadata": {},
   "outputs": [],
   "source": [
    "user_count = users.shape[0]\n",
    "user_team_list = random.choices(teams, k=user_count)\n",
    "users[\"team\"] = user_team_list"
   ]
  },
  {
   "cell_type": "markdown",
   "id": "9f306693",
   "metadata": {},
   "source": [
    "### Assign average performance numbers to users"
   ]
  },
  {
   "cell_type": "code",
   "execution_count": null,
   "id": "4e027361",
   "metadata": {},
   "outputs": [],
   "source": [
    "perf=[]\n",
    "for i in range(user_count):\n",
    "    base_perf = 0.6\n",
    "    user_perf = base_perf + round(random.uniform(0.0, 0.6) , 2)\n",
    "    perf.append(user_perf)\n",
    "    \n",
    "users['performance'] = perf"
   ]
  },
  {
   "cell_type": "code",
   "execution_count": null,
   "id": "abe3e185",
   "metadata": {},
   "outputs": [],
   "source": [
    "users"
   ]
  },
  {
   "cell_type": "code",
   "execution_count": null,
   "id": "ea3585e6",
   "metadata": {},
   "outputs": [],
   "source": [
    "users['name'] = users['first_name'] + ' ' + users['last_name']\n",
    "users = users.drop(columns=['first_name','last_name','country','city_country','is_ascii'])\n"
   ]
  },
  {
   "cell_type": "code",
   "execution_count": null,
   "id": "cebe0118",
   "metadata": {},
   "outputs": [],
   "source": [
    "users"
   ]
  },
  {
   "cell_type": "code",
   "execution_count": null,
   "id": "d91cbc92",
   "metadata": {},
   "outputs": [],
   "source": [
    "users.to_excel(\"../data/users_processed.xlsx\",index=False)"
   ]
  },
  {
   "cell_type": "code",
   "execution_count": null,
   "id": "52899357",
   "metadata": {},
   "outputs": [],
   "source": []
  },
  {
   "cell_type": "code",
   "execution_count": null,
   "id": "a0b88beb",
   "metadata": {},
   "outputs": [],
   "source": []
  }
 ],
 "metadata": {
  "kernelspec": {
   "display_name": "Python 3 (ipykernel)",
   "language": "python",
   "name": "python3"
  },
  "language_info": {
   "codemirror_mode": {
    "name": "ipython",
    "version": 3
   },
   "file_extension": ".py",
   "mimetype": "text/x-python",
   "name": "python",
   "nbconvert_exporter": "python",
   "pygments_lexer": "ipython3",
   "version": "3.8.10"
  }
 },
 "nbformat": 4,
 "nbformat_minor": 5
}